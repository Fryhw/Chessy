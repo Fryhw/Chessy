{
 "cells": [
  {
   "cell_type": "code",
   "execution_count": 1,
   "id": "cb94d87b-6611-408d-a270-0a71b1f88221",
   "metadata": {},
   "outputs": [
    {
     "name": "stderr",
     "output_type": "stream",
     "text": [
      "\u001b[32m2025-09-13 19:22:17.546\u001b[0m | \u001b[1mINFO    \u001b[0m | \u001b[36mchessy.config\u001b[0m:\u001b[36m<module>\u001b[0m:\u001b[36m11\u001b[0m - \u001b[1mPROJ_ROOT path is: C:\\Users\\R coeur\\Documents\\GitHub\\Chessy\u001b[0m\n"
     ]
    }
   ],
   "source": [
    "from stockfish import Stockfish\n",
    "import os\n",
    "from pathlib import Path\n",
    "\n",
    "import sys\n",
    "sys.path.append('..')\n",
    "import chessy.config as cfg"
   ]
  },
  {
   "cell_type": "code",
   "execution_count": 5,
   "id": "1d4ab22a-5249-4ee9-982a-0b230b08a73b",
   "metadata": {},
   "outputs": [],
   "source": [
    "LEILA = \"../Models/Leila/lc0.exe\""
   ]
  },
  {
   "cell_type": "code",
   "execution_count": 3,
   "id": "06e8b4fe-d2dd-453f-a41a-bc074b065348",
   "metadata": {},
   "outputs": [
    {
     "name": "stdout",
     "output_type": "stream",
     "text": [
      "id name Lc0 v0.31.2\n",
      "id author The LCZero Authors.\n",
      "option name WeightsFile type string default <autodiscover>\n",
      "option name Backend type combo default cuda-auto var cuda-auto var cuda var cuda-fp16 var trivial var random var check var recordreplay var roundrobin var multiplexing var demux\n",
      "option name BackendOptions type string default\n",
      "option name Threads type spin default 0 min 0 max 128\n",
      "option name NNCacheSize type spin default 2000000 min 0 max 999999999\n",
      "option name MinibatchSize type spin default 0 min 0 max 1024\n",
      "option name MaxPrefetch type spin default 32 min 0 max 1024\n",
      "option name CPuct type string default 1.745000\n",
      "option name CPuctBase type string default 38739.000000\n",
      "option name CPuctFactor type string default 3.894000\n",
      "option name TwoFoldDraws type check default true\n",
      "option name VerboseMoveStats type check default false\n",
      "option name FpuStrategy type combo default reduction var reduction var absolute\n",
      "option name FpuValue type string default 0.330000\n",
      "option name CacheHistoryLength type spin default 0 min 0 max 7\n",
      "option name PolicyTemperature type string default 1.359000\n",
      "option name MaxCollisionEvents type spin default 917 min 1 max 65536\n",
      "option name MaxCollisionVisits type spin default 80000 min 1 max 100000000\n",
      "option name MaxCollisionVisitsScalingStart type spin default 28 min 1 max 100000\n",
      "option name MaxCollisionVisitsScalingEnd type spin default 145000 min 0 max 100000000\n",
      "option name MaxCollisionVisitsScalingPower type string default 1.250000\n",
      "option name OutOfOrderEval type check default true\n",
      "option name MaxOutOfOrderEvalsFactor type string default 2.400000\n",
      "option name StickyEndgames type check default true\n",
      "option name SyzygyFastPlay type check default false\n",
      "option name MultiPV type spin default 1 min 1 max 500\n",
      "option name PerPVCounters type check default false\n",
      "option name ScoreType type combo default WDL_mu var centipawn var centipawn_with_drawscore var centipawn_2019 var centipawn_2018 var win_percentage var Q var W-L var WDL_mu\n",
      "option name HistoryFill type combo default fen_only var no var fen_only var always\n",
      "option name MovesLeftMaxEffect type string default 0.034500\n",
      "option name MovesLeftThreshold type string default 0.800000\n",
      "option name MovesLeftSlope type string default 0.002700\n",
      "option name MovesLeftConstantFactor type string default 0.000000\n",
      "option name MovesLeftScaledFactor type string default 1.652100\n",
      "option name MovesLeftQuadraticFactor type string default -0.652100\n",
      "option name MaxConcurrentSearchers type spin default 1 min 0 max 128\n",
      "option name DrawScore type string default 0.000000\n",
      "option name ContemptMode type combo default play var play var white_side_analysis var black_side_analysis var disable\n",
      "option name Contempt type string default\n",
      "option name WDLCalibrationElo type string default 0.000000\n",
      "option name WDLEvalObjectivity type string default 1.000000\n",
      "option name WDLDrawRateReference type string default 0.500000\n",
      "option name NodesPerSecondLimit type string default 0.000000\n",
      "option name SolidTreeThreshold type spin default 100 min 1 max 2000000000\n",
      "option name TaskWorkers type spin default -1 min -1 max 128\n",
      "option name MinimumProcessingWork type spin default 20 min 2 max 100000\n",
      "option name MinimumPickingWork type spin default 1 min 1 max 100000\n",
      "option name MinimumRemainingPickingWork type spin default 20 min 0 max 100000\n",
      "option name MinimumPerTaskProcessing type spin default 8 min 1 max 100000\n",
      "option name IdlingMinimumWork type spin default 0 min 0 max 10000\n",
      "option name ThreadIdlingThreshold type spin default 1 min 0 max 128\n",
      "option name UCI_Opponent type string default\n",
      "option name UCI_RatingAdv type string default 0.000000\n",
      "option name SearchSpinBackoff type check default false\n",
      "option name ConfigFile type string default lc0.config\n",
      "option name SyzygyPath type string default\n",
      "option name Ponder type check default true\n",
      "option name UCI_Chess960 type check default false\n",
      "option name UCI_ShowWDL type check default false\n",
      "option name UCI_ShowMovesLeft type check default false\n",
      "option name SmartPruningFactor type string default 1.330000\n",
      "option name SmartPruningMinimumBatches type spin default 0 min 0 max 10000\n",
      "option name RamLimitMb type spin default 0 min 0 max 100000000\n",
      "option name MoveOverheadMs type spin default 200 min 0 max 100000000\n",
      "option name TimeManager type string default legacy\n",
      "option name ValueOnly type check default false\n",
      "option name LogFile type string default\n",
      "uciok\n",
      "info depth 1 seldepth 1 time 1676 nodes 1 score cp 49 tbhits 0 pv e2e4\n",
      "bestmove e2e4\n",
      "Le meilleur coup est : e2e4\n"
     ]
    }
   ],
   "source": [
    "import subprocess\n",
    "def get_best_move_lc0(fen_position,LCZERO_PATH ):\n",
    "    # Commande pour exécuter lc0\n",
    "\n",
    "    # Utilisez subprocess pour lancer lc0 avec les entrées/sorties configurées\n",
    "    process = subprocess.Popen(LCZERO_PATH, stdin=subprocess.PIPE, stdout=subprocess.PIPE, stderr=subprocess.PIPE, text=True)\n",
    "    \n",
    "    # Envoi de la position FEN et des commandes UCI à lc0\n",
    "    process.stdin.write(\"uci\\n\")                      # Initialisation du mode UCI\n",
    "    process.stdin.write(f\"position fen {fen_position}\\n\")  # Position de départ\n",
    "    process.stdin.write(\"go movetime 1000\\n\")         # Commande de recherche pour 1 seconde\n",
    "    process.stdin.flush()\n",
    "\n",
    "    # Lecture de la sortie pour obtenir le meilleur coup\n",
    "    best_move = None\n",
    "    for line in process.stdout:\n",
    "        print(line.strip())  # Affiche la sortie pour aider au débogage\n",
    "        if line.startswith(\"bestmove\"):\n",
    "            best_move = line.split()[1]\n",
    "            break\n",
    "    \n",
    "    # Fermer le processus\n",
    "    process.stdin.write(\"quit\\n\")\n",
    "    process.stdin.flush()\n",
    "    process.terminate()\n",
    "    \n",
    "    return best_move\n",
    "\n",
    "# Exemple d'utilisation\n",
    "fen = \"r1bqkbnr/pppppppp/n7/8/8/8/PPPPPPPP/RNBQKBNR w KQkq - 0 1\"\n",
    "best_move = get_best_move_lc0(fen,LEILA)\n",
    "print(f\"Le meilleur coup est : {best_move}\")\n"
   ]
  },
  {
   "cell_type": "code",
   "execution_count": 6,
   "id": "9b3a51b2-0c55-4163-8e63-182fb34fb8c8",
   "metadata": {},
   "outputs": [
    {
     "name": "stdout",
     "output_type": "stream",
     "text": [
      "Le meilleur coup est : e2e4\n"
     ]
    }
   ],
   "source": [
    "import subprocess\n",
    "import threading\n",
    "import queue\n",
    "\n",
    "class Lc0Engine:\n",
    "    def __init__(self, lc0_path: str):\n",
    "        # Lance lc0 une seule fois\n",
    "        self.process = subprocess.Popen(\n",
    "            [lc0_path],\n",
    "            stdin=subprocess.PIPE,\n",
    "            stdout=subprocess.PIPE,\n",
    "            stderr=subprocess.PIPE,\n",
    "            text=True,\n",
    "            bufsize=1\n",
    "        )\n",
    "        \n",
    "        # File pour stocker la sortie de lc0\n",
    "        self.queue = queue.Queue()\n",
    "        self.thread = threading.Thread(target=self._read_output, daemon=True)\n",
    "        self.thread.start()\n",
    "\n",
    "        # Initialisation UCI\n",
    "        self.send_command(\"uci\")\n",
    "        self.wait_for(\"uciok\")\n",
    "        self.send_command(\"isready\")\n",
    "        self.wait_for(\"readyok\")\n",
    "\n",
    "    def _read_output(self):\n",
    "        for line in self.process.stdout:\n",
    "            self.queue.put(line.strip())\n",
    "\n",
    "    def send_command(self, command: str):\n",
    "        self.process.stdin.write(command + \"\\n\")\n",
    "        self.process.stdin.flush()\n",
    "\n",
    "    def wait_for(self, keyword: str):\n",
    "        \"\"\"Attend qu'une ligne contenant `keyword` apparaisse dans la sortie.\"\"\"\n",
    "        while True:\n",
    "            line = self.queue.get()\n",
    "            # print(\"[lc0]\", line)  # debug\n",
    "            if keyword in line:\n",
    "                return line\n",
    "\n",
    "    def get_best_move(self, fen: str, movetime=1000):\n",
    "        \"\"\"Demande à lc0 le meilleur coup pour une position FEN.\"\"\"\n",
    "        self.send_command(f\"position fen {fen}\")\n",
    "        self.send_command(f\"go movetime {movetime}\")\n",
    "        while True:\n",
    "            line = self.queue.get()\n",
    "            # print(\"[lc0]\", line)  # debug\n",
    "            if line.startswith(\"bestmove\"):\n",
    "                return line.split()[1]\n",
    "\n",
    "    def quit(self):\n",
    "        self.send_command(\"quit\")\n",
    "        self.process.terminate()\n",
    "\n",
    "\n",
    "# Exemple d'utilisation :\n",
    "if __name__ == \"__main__\":\n",
    "    engine = Lc0Engine(LEILA)\n",
    "\n",
    "    fen = \"r1bqkbnr/pppppppp/n7/8/8/8/PPPPPPPP/RNBQKBNR w KQkq - 0 1\"\n",
    "    best_move = engine.get_best_move(fen)\n",
    "    print(\"Le meilleur coup est :\", best_move)\n",
    "\n",
    "    # Plus tard tu peux redemander d'autres coups avec un autre FEN\n",
    "    # best_move2 = engine.get_best_move(autre_fen)\n",
    "\n",
    "    engine.quit()\n"
   ]
  },
  {
   "cell_type": "code",
   "execution_count": 7,
   "id": "72991f36-ef1f-4d65-a106-db751aaa32fc",
   "metadata": {},
   "outputs": [
    {
     "ename": "IndentationError",
     "evalue": "unexpected indent (491411984.py, line 2)",
     "output_type": "error",
     "traceback": [
      "\u001b[1;36m  Cell \u001b[1;32mIn[7], line 2\u001b[1;36m\u001b[0m\n\u001b[1;33m    best_move = engine.get_best_move(fen)\u001b[0m\n\u001b[1;37m    ^\u001b[0m\n\u001b[1;31mIndentationError\u001b[0m\u001b[1;31m:\u001b[0m unexpected indent\n"
     ]
    }
   ],
   "source": [
    "\n",
    "    best_move = engine.get_best_move(fen)\n",
    "    print(\"Le meilleur coup est :\", best_move)\n",
    "\n",
    "\n",
    "engine.quit()"
   ]
  },
  {
   "cell_type": "code",
   "execution_count": 18,
   "id": "258b6034-94de-4226-be88-d787a3f8e7c9",
   "metadata": {},
   "outputs": [
    {
     "name": "stdout",
     "output_type": "stream",
     "text": [
      "Le meilleur coup est : g4g5\n"
     ]
    }
   ],
   "source": [
    "engine = Lc0Engine(LEILA)\n",
    "autre_fen = \"r1bq2r1/b4pk1/p1pp1p2/1p2pP2/1P2P1PB/3P4/1PPQ2P1/R3K2R w\"\n",
    "best_move = engine.get_best_move(autre_fen)\n",
    "print(\"Le meilleur coup est :\", best_move)\n",
    "engine.quit()"
   ]
  },
  {
   "cell_type": "code",
   "execution_count": null,
   "id": "9f741079-3196-4a78-b5f1-d0eb173df0ba",
   "metadata": {},
   "outputs": [],
   "source": []
  }
 ],
 "metadata": {
  "kernelspec": {
   "display_name": "Python 3 (ipykernel)",
   "language": "python",
   "name": "python3"
  },
  "language_info": {
   "codemirror_mode": {
    "name": "ipython",
    "version": 3
   },
   "file_extension": ".py",
   "mimetype": "text/x-python",
   "name": "python",
   "nbconvert_exporter": "python",
   "pygments_lexer": "ipython3",
   "version": "3.11.4"
  }
 },
 "nbformat": 4,
 "nbformat_minor": 5
}
