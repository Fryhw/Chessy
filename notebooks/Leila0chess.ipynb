{
 "cells": [
  {
   "cell_type": "code",
   "execution_count": 1,
   "id": "cb94d87b-6611-408d-a270-0a71b1f88221",
   "metadata": {},
   "outputs": [
    {
     "name": "stderr",
     "output_type": "stream",
     "text": [
      "\u001b[32m2025-09-15 19:23:36.407\u001b[0m | \u001b[1mINFO    \u001b[0m | \u001b[36mchessy.config\u001b[0m:\u001b[36m<module>\u001b[0m:\u001b[36m11\u001b[0m - \u001b[1mPROJ_ROOT path is: C:\\Users\\R coeur\\Documents\\GitHub\\Chessy\u001b[0m\n"
     ]
    }
   ],
   "source": [
    "from stockfish import Stockfish\n",
    "import os\n",
    "from pathlib import Path\n",
    "import subprocess\n",
    "import sys\n",
    "sys.path.append('..')\n",
    "import chessy.config as cfg\n",
    "from chessy.Lc0 import LC0Engine"
   ]
  },
  {
   "cell_type": "code",
   "execution_count": 2,
   "id": "1d4ab22a-5249-4ee9-982a-0b230b08a73b",
   "metadata": {},
   "outputs": [],
   "source": [
    "LEILA = \"../Models/Leila/lc0.exe\""
   ]
  },
  {
   "cell_type": "code",
   "execution_count": 3,
   "id": "8bb962d3-f823-464e-85e1-011a302af415",
   "metadata": {},
   "outputs": [],
   "source": [
    "fen = \"r1bqkbnr/pppppppp/n7/8/8/8/PPPPPPPP/RNBQKBNR w KQkq - 0 1\""
   ]
  },
  {
   "cell_type": "code",
   "execution_count": 4,
   "id": "fe47938d-ca00-4453-b0dd-e076876a03db",
   "metadata": {},
   "outputs": [],
   "source": [
    "engine = LC0Engine(LEILA)"
   ]
  },
  {
   "cell_type": "code",
   "execution_count": 5,
   "id": "a11bd6b5-7627-437d-99b0-69c8b60c9669",
   "metadata": {},
   "outputs": [
    {
     "data": {
      "text/plain": [
       "<chessy.Lc0.LC0Engine at 0x290e8457990>"
      ]
     },
     "execution_count": 5,
     "metadata": {},
     "output_type": "execute_result"
    }
   ],
   "source": [
    "engine"
   ]
  },
  {
   "cell_type": "code",
   "execution_count": 6,
   "id": "06e8b4fe-d2dd-453f-a41a-bc074b065348",
   "metadata": {},
   "outputs": [
    {
     "name": "stdout",
     "output_type": "stream",
     "text": [
      "Best move for fen : r1bqkbnr/pppppppp/n7/8/8/8/PPPPPPPP/RNBQKBNR w KQkq - 0 1 is : e2e4\n"
     ]
    }
   ],
   "source": [
    "best_move = engine.get_best_move(fen)\n",
    "print(f\"Best move for fen : {fen} is : {best_move}\")"
   ]
  },
  {
   "cell_type": "code",
   "execution_count": 7,
   "id": "72991f36-ef1f-4d65-a106-db751aaa32fc",
   "metadata": {},
   "outputs": [
    {
     "name": "stdout",
     "output_type": "stream",
     "text": [
      "Best move for fen : r1bq2r1/b4pk1/p1pp1p2/1p2pP2/1P2P1PB/3P4/1PPQ2P1/R3K2R w is : d2h6\n"
     ]
    }
   ],
   "source": [
    "other_fen = \"r1bq2r1/b4pk1/p1pp1p2/1p2pP2/1P2P1PB/3P4/1PPQ2P1/R3K2R w\"\n",
    "best_move = engine.get_best_move(other_fen)\n",
    "print(f\"Best move for fen : {other_fen} is : {best_move}\")\n",
    "engine.quit()"
   ]
  },
  {
   "cell_type": "code",
   "execution_count": null,
   "id": "6601d749-9653-490d-922c-93b9b144d7ea",
   "metadata": {},
   "outputs": [],
   "source": []
  }
 ],
 "metadata": {
  "kernelspec": {
   "display_name": "Python 3 (ipykernel)",
   "language": "python",
   "name": "python3"
  },
  "language_info": {
   "codemirror_mode": {
    "name": "ipython",
    "version": 3
   },
   "file_extension": ".py",
   "mimetype": "text/x-python",
   "name": "python",
   "nbconvert_exporter": "python",
   "pygments_lexer": "ipython3",
   "version": "3.11.4"
  }
 },
 "nbformat": 4,
 "nbformat_minor": 5
}
