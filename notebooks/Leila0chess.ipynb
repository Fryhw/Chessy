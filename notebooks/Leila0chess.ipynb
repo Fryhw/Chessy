{
 "cells": [
  {
   "cell_type": "code",
   "execution_count": 1,
   "id": "cb94d87b-6611-408d-a270-0a71b1f88221",
   "metadata": {},
   "outputs": [
    {
     "name": "stderr",
     "output_type": "stream",
     "text": [
      "\u001b[32m2025-09-17 16:26:42.280\u001b[0m | \u001b[1mINFO    \u001b[0m | \u001b[36mchessy.config\u001b[0m:\u001b[36m<module>\u001b[0m:\u001b[36m11\u001b[0m - \u001b[1mPROJ_ROOT path is: C:\\Users\\R coeur\\Documents\\GitHub\\Chessy\u001b[0m\n"
     ]
    }
   ],
   "source": [
    "import os\n",
    "from pathlib import Path\n",
    "import subprocess\n",
    "import sys\n",
    "sys.path.append('..')\n",
    "import chessy.config as cfg\n",
    "from chessy.Lc0 import LC0Engine"
   ]
  },
  {
   "cell_type": "code",
   "execution_count": 2,
   "id": "1d4ab22a-5249-4ee9-982a-0b230b08a73b",
   "metadata": {},
   "outputs": [],
   "source": [
    "LEILA = \"../Models/Leila/lc0.exe\""
   ]
  },
  {
   "cell_type": "code",
   "execution_count": 3,
   "id": "8bb962d3-f823-464e-85e1-011a302af415",
   "metadata": {},
   "outputs": [],
   "source": [
    "fen = \"r1bqkbnr/pppppppp/n7/8/8/8/PPPPPPPP/RNBQKBNR w KQkq - 0 1\""
   ]
  },
  {
   "cell_type": "code",
   "execution_count": 9,
   "id": "fe47938d-ca00-4453-b0dd-e076876a03db",
   "metadata": {},
   "outputs": [],
   "source": [
    "engine = LC0Engine(LEILA)"
   ]
  },
  {
   "cell_type": "code",
   "execution_count": 10,
   "id": "a11bd6b5-7627-437d-99b0-69c8b60c9669",
   "metadata": {},
   "outputs": [
    {
     "data": {
      "text/plain": [
       "<chessy.Lc0.LC0Engine at 0x122d9cf4fd0>"
      ]
     },
     "execution_count": 10,
     "metadata": {},
     "output_type": "execute_result"
    }
   ],
   "source": [
    "engine"
   ]
  },
  {
   "cell_type": "code",
   "execution_count": 11,
   "id": "06e8b4fe-d2dd-453f-a41a-bc074b065348",
   "metadata": {},
   "outputs": [
    {
     "name": "stdout",
     "output_type": "stream",
     "text": [
      "Best move for fen : r1bqkbnr/pppppppp/n7/8/8/8/PPPPPPPP/RNBQKBNR w KQkq - 0 1 is : e2e4\n"
     ]
    }
   ],
   "source": [
    "best_move = engine.get_best_move(fen)\n",
    "print(f\"Best move for fen : {fen} is : {best_move}\")"
   ]
  },
  {
   "cell_type": "code",
   "execution_count": 12,
   "id": "72991f36-ef1f-4d65-a106-db751aaa32fc",
   "metadata": {},
   "outputs": [
    {
     "name": "stdout",
     "output_type": "stream",
     "text": [
      "Best move for fen : r1bq2r1/b4pk1/p1pp1p2/1p2pP2/1P2P1PB/3P4/1PPQ2P1/R3K2R w is : d2h6\n"
     ]
    }
   ],
   "source": [
    "other_fen = \"r1bq2r1/b4pk1/p1pp1p2/1p2pP2/1P2P1PB/3P4/1PPQ2P1/R3K2R w\"\n",
    "best_move = engine.get_best_move(other_fen)\n",
    "print(f\"Best move for fen : {other_fen} is : {best_move}\")\n"
   ]
  },
  {
   "cell_type": "code",
   "execution_count": 16,
   "id": "6601d749-9653-490d-922c-93b9b144d7ea",
   "metadata": {},
   "outputs": [
    {
     "data": {
      "text/plain": [
       "['info depth 5 seldepth 12 time 2 nodes 364 score cp 61 tbhits 0 pv e2e4 e7e6 d2d4 d7d5 b1c3 f8b4 e4e5 g8e7 a2a3 b4c3 b2c3 c7c5',\n",
       " 'info depth 6 seldepth 15 time 3 nodes 728 score cp 62 tbhits 0 pv e2e4 e7e6 d2d4 d7d5 b1c3 f8b4 e4e5 g8e7 a2a3 b4c3 b2c3 c7c5 h2h4 c8d7 h4h5',\n",
       " 'info depth 7 seldepth 15 time 3 nodes 1092 score cp 62 nps 1092000 tbhits 0 pv e2e4 e7e6 d2d4 d7d5 b1c3 f8b4 e4e5 g8e7 a2a3 b4c3 b2c3 c7c5 h2h4 d8c7 h4h5',\n",
       " 'info depth 7 seldepth 17 time 4 nodes 1819 score cp 62 nps 909500 tbhits 0 pv e2e4 e7e6 d2d4 d7d5 b1c3 f8b4 e4e5 g8e7 a2a3 b4c3 b2c3 c7c5 h2h4 d8a5 c1d2 c5c4 h4h5',\n",
       " 'info depth 8 seldepth 18 time 15 nodes 2548 score cp 62 nps 196000 tbhits 0 pv e2e4 e7e6 d2d4 d7d5 b1c3 f8b4 e4e5 g8e7 a2a3 b4c3 b2c3 c7c5 h2h4 d8a5 c1d2 c5c4 h4h5 h7h6',\n",
       " 'info depth 8 seldepth 19 time 55 nodes 3643 score cp 62 nps 70057 tbhits 0 pv e2e4 e7e6 d2d4 d7d5 b1c3 f8b4 e4e5 g8e7 a2a3 b4c3 b2c3 c7c5 h2h4 d8a5 c1d2 c5c4 h4h5 h7h6 d1g4',\n",
       " 'info depth 8 seldepth 20 time 207 nodes 4749 score cp 62 nps 23279 tbhits 0 pv e2e4 e7e6 d2d4 d7d5 b1c3 f8b4 e4e5 g8e7 a2a3 b4c3 b2c3 c7c5 h2h4 d8a5 c1d2 c5c4 h4h5 h7h6 d1g4',\n",
       " 'info depth 9 seldepth 20 time 361 nodes 6831 score cp 62 nps 19027 tbhits 0 pv e2e4 e7e6 d2d4 d7d5 b1c3 f8b4 e4e5 g8e7 a2a3 b4c3 b2c3 c7c5 h2h4 d8a5 c1d2 c5c4 h4h5 h7h6 d1g4 h8g8',\n",
       " 'info depth 9 seldepth 21 time 368 nodes 7736 score cp 62 nps 21194 tbhits 0 pv e2e4 e7e6 d2d4 d7d5 b1c3 f8b4 e4e5 g8e7 a2a3 b4c3 b2c3 c7c5 h2h4 d8a5 c1d2 c5c4 h4h5 h7h6 d1g4 h8g8',\n",
       " 'info depth 9 seldepth 22 time 376 nodes 8742 score cp 62 nps 23374 tbhits 0 pv e2e4 e7e6 d2d4 d7d5 b1c3 f8b4 e4e5 g8e7 a2a3 b4c3 b2c3 c7c5 h2h4 d8a5 c1d2 c5c4 h4h5 h7h6 d1g4 h8g8',\n",
       " 'info depth 9 seldepth 23 time 410 nodes 12992 score cp 62 nps 31843 tbhits 0 pv e2e4 e7e6 d2d4 d7d5 b1c3 f8b4 e4e5 g8e7 a2a3 b4c3 b2c3 c7c5 h2h4 d8a5 c1d2 c5c4 h4h5 h7h6 d1g4 h8g8 g4f3 c8d7',\n",
       " 'info depth 10 seldepth 23 time 441 nodes 17141 score cp 63 nps 39045 tbhits 0 pv e2e4 e7e6 d2d4 d7d5 b1c3 f8b4 e4e5 g8e7 a2a3 b4c3 b2c3 c7c5 h2h4 d8a5 c1d2 c5c4 h4h5 h7h6 d1g4 h8g8 g4f3 c8d7',\n",
       " 'info depth 10 seldepth 24 time 478 nodes 21556 score cp 63 nps 45285 tbhits 0 pv e2e4 e7e6 d2d4 d7d5 b1c3 f8b4 e4e5 g8e7 c1d2 c7c5 a2a3 b4c3 d2c3 c5d4 d1d4 e7f5 d4f4 a6c5 g1f3 c8d7',\n",
       " 'info depth 10 seldepth 25 time 531 nodes 27286 score cp 61 nps 51678 tbhits 0 pv e2e4 e7e6 d2d4 d7d5 b1c3 f8b4 e4e5 g8e7 c1d2 c7c5 a2a3 b4c3 d2c3 c5d4 d1d4 e7f5 d4f4 a6c5 g1f3 c8d7',\n",
       " 'info depth 10 seldepth 26 time 534 nodes 27662 score cp 61 nps 52094 tbhits 0 pv e2e4 e7e6 d2d4 d7d5 b1c3 f8b4 e4e5 g8e7 c1d2 c7c5 a2a3 b4c3 d2c3 c5d4 d1d4 e7f5 d4f4 a6c5 g1f3 c8d7',\n",
       " 'info depth 11 seldepth 27 time 537 nodes 28050 score cp 61 nps 52429 tbhits 0 pv e2e4 a6c5 b1c3 e7e5 g1f3 d7d6 d2d4 e5d4 f3d4 g8f6 f2f3 c7c6 d1e2 d8b6 d4b3 f8e7 c1e3 b6c7 b3c5 d6c5 e2f2 b7b6 f2g3 c7g3',\n",
       " 'info depth 11 seldepth 28 time 583 nodes 33711 score cp 60 nps 58022 tbhits 0 pv e2e4 a6c5 b1c3 e7e5 g1f3 d7d6 d2d4 e5d4 f3d4 g8f6 f2f3 c7c6 d1e2 d8b6 d4b3 a7a5 b3c5 d6c5 g2g4 c8e6 g4g5 f6d7 f3f4 g7g6 f4f5',\n",
       " 'info depth 11 seldepth 29 time 590 nodes 34697 score cp 60 nps 59008 tbhits 0 pv e2e4 a6c5 b1c3 e7e5 g1f3 d7d6 d2d4 e5d4 f3d4 g8f6 f2f3 c7c6 d1e2 d8b6 d4b3 a7a5 b3c5 d6c5 g2g4 c8e6 g4g5 f6d7 f3f4 g7g6 f4f5',\n",
       " 'info depth 12 seldepth 29 time 623 nodes 39101 score cp 59 nps 63066 tbhits 0 pv e2e4 a6c5 b1c3 e7e5 g1f3 d7d6 d2d4 e5d4 f3d4 g8f6 f2f3 c7c6 d1e2 d8b6 d4b3 a7a5 b3c5 d6c5 g2g4 c8e6 g4g5 f6d7 f3f4 g7g6 f4f5 g6f5',\n",
       " 'info depth 12 seldepth 30 time 730 nodes 51808 score cp 57 nps 71262 tbhits 0 pv e2e4 a6c5 b1c3 e7e5 g1f3 d7d6 d2d4 e5d4 f3d4 g8f6 f2f3 c7c6 d1e2 d8b6 d4b3 a7a5 b3c5 d6c5 c1d2 a5a4 e1c1 f8e7 a2a3 e8g8 g2g4 b6c7',\n",
       " 'info depth 13 seldepth 30 time 796 nodes 60132 score cp 57 nps 75828 tbhits 0 pv e2e4 a6c5 b1c3 e7e5 g1f3 d7d6 d2d4 e5d4 f3d4 g8f6 f2f3 c7c6 d1e2 d8b6 d4b3 a7a5 b3c5 d6c5 c1d2 a5a4 e1c1 a4a3 b2b3 c8e6 f3f4 e6g4 e2e3 g4d1',\n",
       " 'info depth 13 seldepth 31 time 966 nodes 83853 score cp 56 nps 87074 tbhits 0 pv e2e4 a6c5 b1c3 e7e5 g1f3 d7d6 d2d4 e5d4 f3d4 g8f6 f2f3 c7c6 d1e2 d8b6 d4b3 a7a5 b3c5 d6c5 c1d2 a5a4 e1c1 a4a3 b2b3 c8e6 e2e3 f8e7 c3e2 b6c7 e2f4',\n",
       " 'info depth 13 seldepth 32 time 1088 nodes 101554 score cp 55 nps 93598 tbhits 0 pv e2e4 a6c5 b1c3 e7e5 g1f3 d7d6 d2d4 e5d4 f3d4 g8f6 f2f3 c7c6 d1e2 d8b6 d4b3 a7a5 b3c5 d6c5 c1d2 a5a4 e1c1 a4a3 b2b3 c8e6 e2e3 f8e7 c3e2 b6c7 e2f4',\n",
       " 'info depth 14 seldepth 32 time 1158 nodes 111067 score cp 55 nps 96078 tbhits 0 pv e2e4 a6c5 b1c3 e7e5 g1f3 d7d6 d2d4 e5d4 f3d4 g8f6 f2f3 c7c6 d1e2 d8b6 d4b3 a7a5 b3c5 d6c5 c1d2 a5a4 e1c1 a4a3 b2b3 c8e6 e2e3 f8e7 c3e2 b6c7 e2f4',\n",
       " 'info depth 14 seldepth 33 time 1331 nodes 134756 score cp 55 nps 101396 tbhits 0 pv e2e4 a6c5 b1c3 e7e5 g1f3 d7d6 d2d4 e5d4 f3d4 g8f6 f2f3 c7c6 d1e2 d8b6 d4b3 a7a5 b3c5 d6c5 e2f2 f8e7 f1e2 e8g8 e1g1 a5a4 a2a3 f8e8 g1h1 e7f8 a1b1',\n",
       " 'info depth 14 seldepth 34 time 1370 nodes 140122 score cp 56 nps 102428 tbhits 0 pv e2e4 a6c5 b1c3 e7e5 g1f3 d7d6 d2d4 e5d4 f3d4 g8f6 f2f3 c7c6 d1e2 d8b6 d4b3 a7a5 b3c5 d6c5 e2f2 f8e7 f1e2 e8g8 e1g1 a5a4 a2a3 f8e8 g1h1 e7f8 a1b1',\n",
       " 'info depth 14 seldepth 35 time 1383 nodes 141923 score cp 56 nps 102842 tbhits 0 pv e2e4 a6c5 b1c3 e7e5 g1f3 d7d6 d2d4 e5d4 f3d4 g8f6 f2f3 c7c6 d1e2 d8b6 d4b3 a7a5 b3c5 d6c5 e2f2 f8e7 f1e2 e8g8 e1g1 a5a4 a2a3 f8e8 g1h1 e7f8 a1b1',\n",
       " 'info depth 15 seldepth 35 time 1950 nodes 225841 score cp 58 nps 115994 tbhits 0 pv e2e4 a6c5 b1c3 e7e5 g1f3 d7d6 d2d4 e5d4 f3d4 g8f6 f2f3 c7c6 d1e2 d8b6 d4b3 a7a5 b3c5 d6c5 e2f2 f8e7 f1e2 e8g8 e1g1 a5a4 a2a3 f8e8 f3f4 c8g4 e2c4 b6d8 e4e5 f6d5',\n",
       " 'info depth 15 seldepth 36 time 1971 nodes 228918 score cp 58 nps 116320 tbhits 0 pv e2e4 a6c5 b1c3 e7e5 g1f3 d7d6 d2d4 e5d4 f3d4 g8f6 f2f3 c7c6 d1e2 d8b6 d4b3 a7a5 b3c5 d6c5 e2f2 a5a4 a2a3 f8d6 f3f4 d6c7 f1e2 e8g8 e1g1 f8e8 e4e5 f6d5 c3e4 c5c4 e2c4 c8f5 e4g3',\n",
       " 'info depth 15 seldepth 37 time 1980 nodes 230236 score cp 58 nps 116457 tbhits 0 pv e2e4 a6c5 b1c3 e7e5 g1f3 d7d6 d2d4 e5d4 f3d4 g8f6 f2f3 c7c6 d1e2 d8b6 d4b3 a7a5 b3c5 d6c5 e2f2 a5a4 a2a3 f8d6 f3f4 d6c7 f1e2 e8g8 e1g1 f8e8 e4e5 f6d5 e2c4 d5c3 b2c3 b6a5 c1d2',\n",
       " 'info depth 15 seldepth 38 time 2014 nodes 235344 score cp 58 nps 116970 tbhits 0 pv e2e4 a6c5 b1c3 e7e5 g1f3 d7d6 d2d4 e5d4 f3d4 g8f6 f2f3 c7c6 d1e2 d8b6 d4b3 a7a5 b3c5 d6c5 e2f2 a5a4 a2a3 f8d6 f3f4 d6c7 f1e2 e8g8 e1g1 f8e8 e2f3 f6g4 f2g3 c5c4 g1h1 g4e3 c1e3',\n",
       " 'info depth 15 seldepth 39 time 2017 nodes 235803 score cp 58 nps 117023 tbhits 0 pv e2e4 a6c5 b1c3 e7e5 g1f3 d7d6 d2d4 e5d4 f3d4 g8f6 f2f3 c7c6 d1e2 d8b6 d4b3 a7a5 b3c5 d6c5 e2f2 a5a4 a2a3 f8d6 f3f4 d6c7 f1e2 e8g8 e1g1 f8e8 e2f3 f6g4 f2g3 c5c4 g1h1 g4e3 f1f2 e3f5',\n",
       " 'info depth 15 seldepth 39 time 2171 nodes 258330 score cp 58 nps 119100 tbhits 0 pv e2e4 a6c5 b1c3 e7e5 g1f3 d7d6 d2d4 e5d4 f3d4 g8f6 f2f3 c7c6 d1e2 d8b6 d4b3 a7a5 b3c5 d6c5 e2f2 a5a4 a2a3 f8d6 f3f4 d6c7 f1e2 e8g8 e1g1 f8e8 e2f3 f6g4 f2g3 c5c4 g1h1 g4e3 f1f2 e3f5',\n",
       " 'bestmove e2e4 ponder a6c5']"
      ]
     },
     "execution_count": 16,
     "metadata": {},
     "output_type": "execute_result"
    }
   ],
   "source": [
    "engine.get_leila(fen, 5000)"
   ]
  },
  {
   "cell_type": "code",
   "execution_count": 17,
   "id": "7d7891b1-cdae-482c-882c-50703c0750f5",
   "metadata": {},
   "outputs": [],
   "source": [
    "engine.quit()"
   ]
  },
  {
   "cell_type": "code",
   "execution_count": null,
   "id": "d02ba1db-9640-441e-97d1-8ac77e2240e2",
   "metadata": {},
   "outputs": [],
   "source": []
  }
 ],
 "metadata": {
  "kernelspec": {
   "display_name": "Python 3 (ipykernel)",
   "language": "python",
   "name": "python3"
  },
  "language_info": {
   "codemirror_mode": {
    "name": "ipython",
    "version": 3
   },
   "file_extension": ".py",
   "mimetype": "text/x-python",
   "name": "python",
   "nbconvert_exporter": "python",
   "pygments_lexer": "ipython3",
   "version": "3.11.4"
  }
 },
 "nbformat": 4,
 "nbformat_minor": 5
}
