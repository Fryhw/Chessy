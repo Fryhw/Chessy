{
 "cells": [
  {
   "cell_type": "markdown",
   "id": "4d1d4e36-9bb8-4451-a384-0e368cf41fa8",
   "metadata": {},
   "source": [
    "# STOCKFISH :!:!:"
   ]
  },
  {
   "cell_type": "code",
   "execution_count": 30,
   "id": "341a1337-4b0e-4a47-a073-8744d5399857",
   "metadata": {},
   "outputs": [],
   "source": [
    "from stockfish import Stockfish\n",
    "import os\n",
    "import os\n",
    "import sys\n",
    "sys.path.append(os.path.join(PROJ_ROOT, '..'))\n",
    "import chessy.config as cfg"
   ]
  },
  {
   "cell_type": "code",
   "execution_count": 34,
   "id": "7c68ee9e-4a32-4b7f-bd01-bebea40f9f03",
   "metadata": {},
   "outputs": [],
   "source": [
    "LEILA = \"../Leila/lc0.exe\"\n",
    "\n",
    "STOCKFISH = \"../models/Stockfish/stockfish-windows-x86-64-avx2.exe\""
   ]
  },
  {
   "cell_type": "code",
   "execution_count": 36,
   "id": "f33d43c5-41d8-4cc9-abb0-bcccb17a090c",
   "metadata": {},
   "outputs": [],
   "source": [
    "stockfish = Stockfish(STOCKFISH)"
   ]
  },
  {
   "cell_type": "code",
   "execution_count": 37,
   "id": "263a833c-a473-4195-98d9-8af17fc8be54",
   "metadata": {},
   "outputs": [
    {
     "data": {
      "text/plain": [
       "'e2e4'"
      ]
     },
     "execution_count": 37,
     "metadata": {},
     "output_type": "execute_result"
    }
   ],
   "source": [
    "stockfish.set_fen_position(\"rnbqkbnr/pppppppp/8/8/8/8/PPPPPPPP/RNBQKBNR w KQkq - 0 1\")\n",
    "\n",
    "stockfish.get_best_move()"
   ]
  },
  {
   "cell_type": "code",
   "execution_count": null,
   "id": "47c7aa63-ebf1-402d-a055-055e20311e3c",
   "metadata": {},
   "outputs": [],
   "source": []
  }
 ],
 "metadata": {
  "kernelspec": {
   "display_name": "Python 3 (ipykernel)",
   "language": "python",
   "name": "python3"
  },
  "language_info": {
   "codemirror_mode": {
    "name": "ipython",
    "version": 3
   },
   "file_extension": ".py",
   "mimetype": "text/x-python",
   "name": "python",
   "nbconvert_exporter": "python",
   "pygments_lexer": "ipython3",
   "version": "3.11.4"
  }
 },
 "nbformat": 4,
 "nbformat_minor": 5
}
